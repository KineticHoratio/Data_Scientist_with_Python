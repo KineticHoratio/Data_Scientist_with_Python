{
 "cells": [
  {
   "cell_type": "markdown",
   "metadata": {},
   "source": [
    "# PROGRAMACION EN PYTHON\n",
    "\n",
    "** Horacio Enriquez Nares **\n",
  ""
   ]
  },
  {
   "cell_type": "markdown",
   "metadata": {},
   "source": [
    "## Data Camp\n",
    "\n",
    "## Curso: Introducción a Python para la ciencia de Datos\n",
    "https://campus.datacamp.com/courses/intro-to-python-for-data-science/chapter-1-python-basics?ex=1"
   ]
  },
  {
   "cell_type": "markdown",
   "metadata": {},
   "source": [
    "### ¿Qué es Python? "
   ]
  },
  {
   "cell_type": "markdown",
   "metadata": {},
   "source": [
    "Python es un lenguaje de scripting independiente de plataforma y orientado a objetos, preparado para realizar cualquier tipo de programa, desde aplicaciones Windows a servidores de red o incluso, páginas web. Es un lenguaje interpretado, lo que significa que no se necesita compilar el código fuente para poder ejecutarlo, lo que ofrece ventajas como la rapidez de desarrollo e inconvenientes como una menor velocidad. \n",
    "\n",
    "Fuente: https://desarrolloweb.com/articulos/1325.php"
   ]
  },
  {
   "cell_type": "markdown",
   "metadata": {},
   "source": [
    "*** ¿Cuándo usar Python? ***"
   ]
  },
  {
   "cell_type": "markdown",
   "metadata": {},
   "source": [
    "* Cuando quieres realizar cálculos rápidos.\n",
    "* Para tu nuevo negocio, si quieres desarrollar un sitio web en base de datos.\n",
    "* Si te piden limpiar y analizar los resultados de la última encuesta de satisfacción.\n"
   ]
  },
  {
   "cell_type": "markdown",
   "metadata": {},
   "source": [
    "### 1) Comentarios"
   ]
  },
  {
   "cell_type": "markdown",
   "metadata": {},
   "source": [
    "* Los comentarios son importantes y nos ayuda a que cualquiera pueda entender lo que realiza el código.\n",
    "* Para añadir comentarios en Python, únicamente es con el carácter ‘#’. Todos los comentarios no se ejecutaran al momento de correr el código.\n"
   ]
  },
  {
   "cell_type": "code",
   "execution_count": 1,
   "metadata": {
    "collapsed": true
   },
   "outputs": [],
   "source": [
    "# Esto es un Comentario\n",
    "Suma = 5 + 10"
   ]
  },
  {
   "cell_type": "markdown",
   "metadata": {},
   "source": [
    "De no tener el carácter \"#\", se tendria un error al ejecutar el código."
   ]
  },
  {
   "cell_type": "markdown",
   "metadata": {},
   "source": [
    "### 2) Python como Calculadora "
   ]
  },
  {
   "cell_type": "markdown",
   "metadata": {},
   "source": [
    "Python es perfectamente adecuado para hacer cálculos básicos y avanzados: Suma, Resta, División, Multiplicación, Exponente, Residuo."
   ]
  },
  {
   "cell_type": "code",
   "execution_count": 2,
   "metadata": {
    "collapsed": true
   },
   "outputs": [],
   "source": [
    "#%% Python Como Calculadora\n",
    "x = 5\n",
    "y = 3\n",
    "# Operaciones Básicas\n",
    "Suma = x + y\n",
    "Resta = x - y\n",
    "Mult = x * y     # Multiplicación\n",
    "Div = x / y     # División\n",
    "# Algunas Operaciones Avanzadas\n",
    "Exp = x**y     # Elevar a Potencia\n",
    "Mod = x % y    # Modulo: Devuelve el Residuo de la División  "
   ]
  },
  {
   "cell_type": "code",
   "execution_count": 3,
   "metadata": {},
   "outputs": [
    {
     "name": "stdout",
     "output_type": "stream",
     "text": [
      "8\n",
      "1.6666666666666667\n",
      "2\n"
     ]
    }
   ],
   "source": [
    "print(Suma)\n",
    "print(Div)\n",
    "print(Mod)"
   ]
  },
  {
   "cell_type": "markdown",
   "metadata": {},
   "source": [
    "### 3) Variables"
   ]
  },
  {
   "cell_type": "markdown",
   "metadata": {},
   "source": [
    "* Guardan cualquier valor con un nombre.\n",
    "* Son específicas. Distingue las mayúsculas y minúsculas en el nombre.\n",
    "* Llama el valor a través del nombre de la variable.\n",
    "* Son usadas todo el tiempo.\n",
    "* El signo “=” no se refiere a igualdad, sino a una asignación de valor.\n"
   ]
  },
  {
   "cell_type": "markdown",
   "metadata": {},
   "source": [
    "### 4) Tipos de Datos\n",
    "\n",
    "Un tipo de datos es la propiedad de un valor que determina su dominio (qué valores puede tomar), qué operaciones se le pueden aplicar y cómo es representado internamente por el computador.\n",
    "\n",
    "Todos los valores que aparecen en un programa tienen un tipo.\n",
    "\n",
    "Fuente: http://progra.usm.cl/apunte/materia/tipos.html"
   ]
  },
  {
   "cell_type": "markdown",
   "metadata": {},
   "source": [
    "Para conocer el tipo de dato de las variables, únicamente se utiliza el comando 'type()'"
   ]
  },
  {
   "cell_type": "markdown",
   "metadata": {},
   "source": [
    "** Entero “int” ** \n",
    "\n",
    "Número sin parte fraccional, es decir, un valor entero."
   ]
  },
  {
   "cell_type": "code",
   "execution_count": 4,
   "metadata": {},
   "outputs": [
    {
     "data": {
      "text/plain": [
       "int"
      ]
     },
     "execution_count": 4,
     "metadata": {},
     "output_type": "execute_result"
    }
   ],
   "source": [
    "type(x)"
   ]
  },
  {
   "cell_type": "markdown",
   "metadata": {},
   "source": [
    "#### Flotante  “float”* \n",
    "\n",
    "Número que contiene parte entera y parte fracional."
   ]
  },
  {
   "cell_type": "code",
   "execution_count": 5,
   "metadata": {},
   "outputs": [
    {
     "data": {
      "text/plain": [
       "float"
      ]
     },
     "execution_count": 5,
     "metadata": {},
     "output_type": "execute_result"
    }
   ],
   "source": [
    "type(Div)"
   ]
  },
  {
   "cell_type": "markdown",
   "metadata": {},
   "source": [
    "** String \"str\" **\n",
    "\n",
    "Representa texto."
   ]
  },
  {
   "cell_type": "code",
   "execution_count": 6,
   "metadata": {},
   "outputs": [
    {
     "data": {
      "text/plain": [
       "str"
      ]
     },
     "execution_count": 6,
     "metadata": {},
     "output_type": "execute_result"
    }
   ],
   "source": [
    "Texto = \"Hello World\"\n",
    "type(Texto)"
   ]
  },
  {
   "cell_type": "markdown",
   "metadata": {},
   "source": [
    "*** Boleano \"bool\" ***\n",
    "\n",
    "Representa valores lógicos. Solo puede ser True o False (es importante la mayúscula)."
   ]
  },
  {
   "cell_type": "code",
   "execution_count": 7,
   "metadata": {},
   "outputs": [
    {
     "data": {
      "text/plain": [
       "bool"
      ]
     },
     "execution_count": 7,
     "metadata": {},
     "output_type": "execute_result"
    }
   ],
   "source": [
    "Bool = True\n",
    "type(Bool)"
   ]
  },
  {
   "cell_type": "markdown",
   "metadata": {},
   "source": [
    "### 4.1) Imprimiendo resultados con variables "
   ]
  },
  {
   "cell_type": "code",
   "execution_count": 8,
   "metadata": {},
   "outputs": [
    {
     "name": "stdout",
     "output_type": "stream",
     "text": [
      "I started with $100 and now have $194.87171000000012. Awesome!\n"
     ]
    }
   ],
   "source": [
    "#%% Ejemplo de una Inversion\n",
    "savings = 100\n",
    "factor = 1.10\n",
    "years = 7\n",
    "result = savings*factor**years\n",
    "# Para poder imprimir, primero se debe convertir los tipos de las variables a String\n",
    "print(\"I started with $\" + str(savings) + \" and now have $\" + str(result) + \". Awesome!\")"
   ]
  },
  {
   "cell_type": "markdown",
   "metadata": {},
   "source": [
    "### 5) Listas"
   ]
  },
  {
   "cell_type": "markdown",
   "metadata": {},
   "source": [
    "* Nombra y guarda una colección de valores"
   ]
  },
  {
   "cell_type": "code",
   "execution_count": 9,
   "metadata": {},
   "outputs": [
    {
     "name": "stdout",
     "output_type": "stream",
     "text": [
      "[11.25, 18.0, 20.0, 10.75, 9.5]\n"
     ]
    }
   ],
   "source": [
    "#%% Creando Listas\n",
    "# area variables (in square meters)\n",
    "hall = 11.25\n",
    "kit = 18.0\n",
    "liv = 20.0\n",
    "bed = 10.75\n",
    "bath = 9.50\n",
    "\n",
    "# Create list areas\n",
    "areas1 = [hall,kit,liv,bed,bath]\n",
    "\n",
    "# Print areas\n",
    "print(areas1)"
   ]
  },
  {
   "cell_type": "markdown",
   "metadata": {},
   "source": [
    "* Puede contener cualquier tipo de dato y los distingue entre ellos"
   ]
  },
  {
   "cell_type": "code",
   "execution_count": 10,
   "metadata": {},
   "outputs": [
    {
     "name": "stdout",
     "output_type": "stream",
     "text": [
      "['hallway', 11.25, 'kitchen', 18.0, 'living room', 20.0, 'bedroom', 10.75, 'bathroom', 9.5]\n"
     ]
    }
   ],
   "source": [
    "# Adapt list areas\n",
    "areas2 = [\"hallway\",hall,\"kitchen\", kit, \"living room\", liv,\"bedroom\", bed, \"bathroom\", bath]\n",
    "\n",
    "# Print areas\n",
    "print(areas2)"
   ]
  },
  {
   "cell_type": "markdown",
   "metadata": {},
   "source": [
    "* Las listas pueden contener sub-listas."
   ]
  },
  {
   "cell_type": "code",
   "execution_count": 11,
   "metadata": {},
   "outputs": [
    {
     "name": "stdout",
     "output_type": "stream",
     "text": [
      "[['hallway', 11.25], ['kitchen', 18.0], ['living room', 20.0], ['bedroom', 10.75], ['bathroom', 9.5]]\n"
     ]
    }
   ],
   "source": [
    "# house information as list of lists\n",
    "house = [[\"hallway\", hall],\n",
    "         [\"kitchen\", kit],\n",
    "         [\"living room\", liv],\n",
    "         [\"bedroom\",bed],\n",
    "         [\"bathroom\",bath]]\n",
    "\n",
    "# Print out house\n",
    "print(house)"
   ]
  },
  {
   "cell_type": "code",
   "execution_count": 12,
   "metadata": {},
   "outputs": [
    {
     "data": {
      "text/plain": [
       "list"
      ]
     },
     "execution_count": 12,
     "metadata": {},
     "output_type": "execute_result"
    }
   ],
   "source": [
    "type(house)"
   ]
  },
  {
   "cell_type": "markdown",
   "metadata": {
    "collapsed": true
   },
   "source": [
    "### 5.1) Subconjunto en Listas"
   ]
  },
  {
   "cell_type": "code",
   "execution_count": 13,
   "metadata": {},
   "outputs": [
    {
     "data": {
      "text/plain": [
       "[11.25, 18.0, 20.0, 10.75, 9.5]"
      ]
     },
     "execution_count": 13,
     "metadata": {},
     "output_type": "execute_result"
    }
   ],
   "source": [
    "# Visualizar la lista completa \"areas\"\n",
    "areas1"
   ]
  },
  {
   "cell_type": "markdown",
   "metadata": {},
   "source": [
    "* Índice Base Cero, es decir, el primer valor cuenta en cero."
   ]
  },
  {
   "cell_type": "code",
   "execution_count": 14,
   "metadata": {},
   "outputs": [
    {
     "data": {
      "text/plain": [
       "11.25"
      ]
     },
     "execution_count": 14,
     "metadata": {},
     "output_type": "execute_result"
    }
   ],
   "source": [
    "# Tomar el primer valor de la lista areas1\n",
    "areas1[0]"
   ]
  },
  {
   "cell_type": "markdown",
   "metadata": {},
   "source": [
    "* Se puede llamar del último al primero. Siendo -1 el último valor"
   ]
  },
  {
   "cell_type": "code",
   "execution_count": 15,
   "metadata": {},
   "outputs": [
    {
     "data": {
      "text/plain": [
       "9.5"
      ]
     },
     "execution_count": 15,
     "metadata": {},
     "output_type": "execute_result"
    }
   ],
   "source": [
    "# Tomar el último valor de la lista areas1\n",
    "areas1[-1]"
   ]
  },
  {
   "cell_type": "markdown",
   "metadata": {},
   "source": [
    "* Se puede llamar por un conjunto de valores. Se utiliza el carácter $:$ , el cúal representa \"Hasta\". En Python, el último valor seleccionado no es tomado en cuenta. "
   ]
  },
  {
   "cell_type": "code",
   "execution_count": 16,
   "metadata": {},
   "outputs": [
    {
     "data": {
      "text/plain": [
       "[18.0, 20.0, 10.75]"
      ]
     },
     "execution_count": 16,
     "metadata": {},
     "output_type": "execute_result"
    }
   ],
   "source": [
    "# Tomar los valores del segundo [1] al cuarto [3]\n",
    "areas1[1:4]"
   ]
  },
  {
   "cell_type": "markdown",
   "metadata": {},
   "source": [
    "Se puede ver que el valor en la posición 4 [9,5] no es tomado en cuenta por la característica anteriormente mencionada."
   ]
  },
  {
   "cell_type": "markdown",
   "metadata": {},
   "source": [
    "* Cuando se quiere iniciar en el primer valor [0] o terminar en el último [-1]. Se puede omitir escribir el número correspondiente"
   ]
  },
  {
   "cell_type": "code",
   "execution_count": 17,
   "metadata": {},
   "outputs": [
    {
     "data": {
      "text/plain": [
       "[11.25, 18.0, 20.0]"
      ]
     },
     "execution_count": 17,
     "metadata": {},
     "output_type": "execute_result"
    }
   ],
   "source": [
    "# Tomar los primeros 3 valores de la lista areas1\n",
    "areas1[:3]"
   ]
  },
  {
   "cell_type": "code",
   "execution_count": 18,
   "metadata": {},
   "outputs": [
    {
     "data": {
      "text/plain": [
       "[20.0, 10.75, 9.5]"
      ]
     },
     "execution_count": 18,
     "metadata": {},
     "output_type": "execute_result"
    }
   ],
   "source": [
    "# Tomar los últimos 3 valores de la lista areas1\n",
    "areas1[-3:]"
   ]
  },
  {
   "cell_type": "markdown",
   "metadata": {},
   "source": [
    "* Cuando se tiene una lista que contenga más listas, como es el caso de house. Para manejar las listas, se debe de agregar otro par de corchetes [ ][ ] especificando  qué valores se desean tomar."
   ]
  },
  {
   "cell_type": "code",
   "execution_count": 19,
   "metadata": {},
   "outputs": [
    {
     "data": {
      "text/plain": [
       "[['hallway', 11.25],\n",
       " ['kitchen', 18.0],\n",
       " ['living room', 20.0],\n",
       " ['bedroom', 10.75],\n",
       " ['bathroom', 9.5]]"
      ]
     },
     "execution_count": 19,
     "metadata": {},
     "output_type": "execute_result"
    }
   ],
   "source": [
    "# Visualisar la lista house completa\n",
    "house"
   ]
  },
  {
   "cell_type": "code",
   "execution_count": 20,
   "metadata": {},
   "outputs": [
    {
     "data": {
      "text/plain": [
       "['kitchen', 18.0]"
      ]
     },
     "execution_count": 20,
     "metadata": {},
     "output_type": "execute_result"
    }
   ],
   "source": [
    "# Tomar los valores de la lista que contenga \"kitchen\" y su área\n",
    "house[1][:]"
   ]
  },
  {
   "cell_type": "code",
   "execution_count": 21,
   "metadata": {},
   "outputs": [
    {
     "data": {
      "text/plain": [
       "10.75"
      ]
     },
     "execution_count": 21,
     "metadata": {},
     "output_type": "execute_result"
    }
   ],
   "source": [
    "# Tomar solo el valor del área de \"bedroom\"\n",
    "house[3][1]"
   ]
  },
  {
   "cell_type": "markdown",
   "metadata": {},
   "source": [
    "### 5.2) Manipulación de listas"
   ]
  },
  {
   "cell_type": "code",
   "execution_count": 22,
   "metadata": {},
   "outputs": [
    {
     "name": "stdout",
     "output_type": "stream",
     "text": [
      "['hallway', 11.25, 'kitchen', 18.0, 'living room', 20.0, 'bedroom', 10.75, 'bathroom', 9.5]\n"
     ]
    }
   ],
   "source": [
    "# Visualizar la lista completa \"areas2\"\n",
    "print(areas2)"
   ]
  },
  {
   "cell_type": "markdown",
   "metadata": {},
   "source": [
    "* Cambiar los elementos de una lista: Únicamente se selecciona la posicion y se define el nuevo valor"
   ]
  },
  {
   "cell_type": "code",
   "execution_count": 23,
   "metadata": {},
   "outputs": [
    {
     "name": "stdout",
     "output_type": "stream",
     "text": [
      "['hallway', 11.25, 'kitchen', 18.0, 'chill zone', 20.0, 'bedroom', 10.75, 'bathroom', 10.5]\n"
     ]
    }
   ],
   "source": [
    "# Cambiar el valor del área de \"Bathroom\" a 10.50\n",
    "areas2[-1] = 10.50\n",
    "\n",
    "# Cambiar el nombre de \"Living Romm\" a \"chill zone\"\n",
    "areas2[4] = \"chill zone\"\n",
    "\n",
    "# Visualizar la nueva lista\n",
    "print(areas2)"
   ]
  },
  {
   "cell_type": "markdown",
   "metadata": {},
   "source": [
    "* Añadir nuevos elementos a la lista: Se utiliza el operador $+$ y elvalor entre corchetes [] para agregar cualquier elemento."
   ]
  },
  {
   "cell_type": "code",
   "execution_count": 24,
   "metadata": {},
   "outputs": [
    {
     "name": "stdout",
     "output_type": "stream",
     "text": [
      "['hallway', 11.25, 'kitchen', 18.0, 'chill zone', 20.0, 'bedroom', 10.75, 'bathroom', 10.5, 'poolhouse', 24.5]\n"
     ]
    }
   ],
   "source": [
    "# Añadir el campo \"poolhouse\" con un área de 24.5 en una nueva variable areas3\n",
    "areas3 = areas2 + [\"poolhouse\",24.50]\n",
    "print(areas3)"
   ]
  },
  {
   "cell_type": "markdown",
   "metadata": {},
   "source": [
    "* Finalmente, tambien se puede eliminar elementos de una lista: Simplemente se usa el comando $del$ y el valor que se quiere quitar. Cuando se elimina un elemento, los inidices de los elementos posteriores se modifican. "
   ]
  },
  {
   "cell_type": "code",
   "execution_count": 25,
   "metadata": {},
   "outputs": [
    {
     "name": "stdout",
     "output_type": "stream",
     "text": [
      "['hallway', 11.25, 'kitchen', 18.0, 'chill zone', 20.0, 'bedroom', 10.75, 'bathroom', 10.5]\n"
     ]
    }
   ],
   "source": [
    "# Eliminar el elemnto \"poolhouse\" con su respectiva área\n",
    "del(areas3[10:12])\n",
    "print(areas3)"
   ]
  },
  {
   "cell_type": "markdown",
   "metadata": {},
   "source": [
    "### 5.3) Funcionamiento Interno de Listas"
   ]
  },
  {
   "cell_type": "markdown",
   "metadata": {},
   "source": [
    "Cuando se tiene una lista “x” y se crea otra lista “y” a partir de los valores que ya tenia “x”, es decir, “y = x”. \n",
    "\n",
    "Si se cambia algún elemento de “y”, por defecto de Python, también se le cambiara el elemento a la lista “x”. "
   ]
  },
  {
   "cell_type": "code",
   "execution_count": 26,
   "metadata": {},
   "outputs": [
    {
     "data": {
      "text/plain": [
       "[11.25, 18.0, 20.0, 10.75, 9.5]"
      ]
     },
     "execution_count": 26,
     "metadata": {},
     "output_type": "execute_result"
    }
   ],
   "source": [
    "# Crear una variable con los datos de \"areas1\"\n",
    "copy_areas1 = areas1\n",
    "copy_areas1"
   ]
  },
  {
   "cell_type": "code",
   "execution_count": 27,
   "metadata": {},
   "outputs": [
    {
     "data": {
      "text/plain": [
       "[5, 18.0, 20.0, 10.75, 9.5]"
      ]
     },
     "execution_count": 27,
     "metadata": {},
     "output_type": "execute_result"
    }
   ],
   "source": [
    "# Cambiar el primer valor de la nueva variable a 5\n",
    "copy_areas1[0] = 5\n",
    "copy_areas1"
   ]
  },
  {
   "cell_type": "code",
   "execution_count": 28,
   "metadata": {},
   "outputs": [
    {
     "data": {
      "text/plain": [
       "[5, 18.0, 20.0, 10.75, 9.5]"
      ]
     },
     "execution_count": 28,
     "metadata": {},
     "output_type": "execute_result"
    }
   ],
   "source": [
    "# Visualizar la variable principal areas1\n",
    "areas1"
   ]
  },
  {
   "cell_type": "markdown",
   "metadata": {},
   "source": [
    "Se puede notar que la variable \"areas1\" tambien sufrio el cambio realizado.\n",
    "\n",
    "Para evitar dicho cambio, se debe de definir la lista “y” de la siguiente manera:"
   ]
  },
  {
   "cell_type": "code",
   "execution_count": 29,
   "metadata": {},
   "outputs": [
    {
     "data": {
      "text/plain": [
       "[5, 18.0, 20.0, 10.75, 9.5]"
      ]
     },
     "execution_count": 29,
     "metadata": {},
     "output_type": "execute_result"
    }
   ],
   "source": [
    "copy_areas1 = list(areas1)\n",
    "# Tambien:\n",
    "copy_areas1 = areas1[:]\n",
    "copy_areas1"
   ]
  },
  {
   "cell_type": "code",
   "execution_count": 30,
   "metadata": {},
   "outputs": [
    {
     "data": {
      "text/plain": [
       "[10, 18.0, 20.0, 10.75, 9.5]"
      ]
     },
     "execution_count": 30,
     "metadata": {},
     "output_type": "execute_result"
    }
   ],
   "source": [
    "# Cambiar el primer valor de \"copy_areas1\" a 10\n",
    "copy_areas1[0] = 10\n",
    "copy_areas1"
   ]
  },
  {
   "cell_type": "code",
   "execution_count": 31,
   "metadata": {},
   "outputs": [
    {
     "data": {
      "text/plain": [
       "[5, 18.0, 20.0, 10.75, 9.5]"
      ]
     },
     "execution_count": 31,
     "metadata": {},
     "output_type": "execute_result"
    }
   ],
   "source": [
    "# Visualizar la variable \"areas1\"\n",
    "areas1"
   ]
  },
  {
   "cell_type": "markdown",
   "metadata": {},
   "source": [
    "En esta ocasión, la variable principal \"areas1\" no sufrio el cambio realizado a la lista \"copy_areas1\"."
   ]
  },
  {
   "cell_type": "markdown",
   "metadata": {},
   "source": [
    "### 6) Funciones"
   ]
  },
  {
   "cell_type": "markdown",
   "metadata": {},
   "source": [
    "Las funciones son las estructuras más importantes dentro del lenguaje de programación. Permiten una programación estructurada y simplifican la lectura del código; pero lo más importante es que, una función sencilla que realiza una tarea bien específica, puede ser reutilizada con extrema facilidad en cualquier otro programa.\n",
    "\n",
    "Fuente: https://prezi.com/e6zkvjwpow3e/funciones-del-lenguaje-de-programacion/"
   ]
  },
  {
   "cell_type": "markdown",
   "metadata": {},
   "source": [
    "Python ofrece un conjunto de funciones integradas para facilitar la realización de las tareas.\n",
    "\n",
    "Ya hemos usado varias funciones: $print()$, $type()$, $str()$ entre otras."
   ]
  },
  {
   "cell_type": "markdown",
   "metadata": {},
   "source": [
    "### 6.1) Ayuda"
   ]
  },
  {
   "cell_type": "markdown",
   "metadata": {},
   "source": [
    "Cuando sabemos el nombre de una función pero no conocemos lo que realiza, podemos utilizar la función \"help(nombre de la función)\" para conocer los detalles especificos. "
   ]
  },
  {
   "cell_type": "code",
   "execution_count": 32,
   "metadata": {},
   "outputs": [
    {
     "name": "stdout",
     "output_type": "stream",
     "text": [
      "Help on built-in function print in module builtins:\n",
      "\n",
      "print(...)\n",
      "    print(value, ..., sep=' ', end='\\n', file=sys.stdout, flush=False)\n",
      "    \n",
      "    Prints the values to a stream, or to sys.stdout by default.\n",
      "    Optional keyword arguments:\n",
      "    file:  a file-like object (stream); defaults to the current sys.stdout.\n",
      "    sep:   string inserted between values, default a space.\n",
      "    end:   string appended after the last value, default a newline.\n",
      "    flush: whether to forcibly flush the stream.\n",
      "\n"
     ]
    }
   ],
   "source": [
    "# Ejemplo de ayuda para la función print()\n",
    "help(print)"
   ]
  },
  {
   "cell_type": "markdown",
   "metadata": {},
   "source": [
    "Exite otra manera de pedir ayuda en Python, añadiendo al princio de la función el símbolo $\"?\"$ "
   ]
  },
  {
   "cell_type": "code",
   "execution_count": 33,
   "metadata": {
    "collapsed": true
   },
   "outputs": [],
   "source": [
    "?print"
   ]
  },
  {
   "cell_type": "markdown",
   "metadata": {
    "collapsed": true
   },
   "source": [
    "### 7) Métodos"
   ]
  },
  {
   "cell_type": "markdown",
   "metadata": {},
   "source": [
    "* Todo es un Objeto: String, Entero, Flotante, Lista...\n",
    "* Un método es una función que \"pertenece a\" un objeto.\n",
    "* Dependiendo del tipo de objeto, se tienen métodos específicos asociados.\n",
    "* Para poder usar los métodos asociados, se pone un punto $.$ al final de la variable y despues se elige el método."
   ]
  },
  {
   "cell_type": "markdown",
   "metadata": {},
   "source": [
    "### 7.1) Métodos para String"
   ]
  },
  {
   "cell_type": "code",
   "execution_count": 34,
   "metadata": {},
   "outputs": [
    {
     "data": {
      "text/plain": [
       "'poolhouse'"
      ]
     },
     "execution_count": 34,
     "metadata": {},
     "output_type": "execute_result"
    }
   ],
   "source": [
    "# Crear una variable tipo String\n",
    "room = \"poolhouse\"\n",
    "room"
   ]
  },
  {
   "cell_type": "code",
   "execution_count": 35,
   "metadata": {},
   "outputs": [
    {
     "data": {
      "text/plain": [
       "'POOLHOUSE'"
      ]
     },
     "execution_count": 35,
     "metadata": {},
     "output_type": "execute_result"
    }
   ],
   "source": [
    "# Convertir en Mayúsculas todas las letras\n",
    "room.upper()"
   ]
  },
  {
   "cell_type": "code",
   "execution_count": 37,
   "metadata": {},
   "outputs": [
    {
     "data": {
      "text/plain": [
       "3"
      ]
     },
     "execution_count": 37,
     "metadata": {},
     "output_type": "execute_result"
    }
   ],
   "source": [
    "# Contar cuantas letras \"o\" tiene la variable\n",
    "room.count(\"o\")"
   ]
  },
  {
   "cell_type": "markdown",
   "metadata": {},
   "source": [
    "### 7.2) Métodos para Listas"
   ]
  },
  {
   "cell_type": "code",
   "execution_count": 38,
   "metadata": {},
   "outputs": [
    {
     "data": {
      "text/plain": [
       "[5, 18.0, 20.0, 10.75, 9.5]"
      ]
     },
     "execution_count": 38,
     "metadata": {},
     "output_type": "execute_result"
    }
   ],
   "source": [
    "# Visualizar una variable de tipo lista\n",
    "areas1"
   ]
  },
  {
   "cell_type": "code",
   "execution_count": 39,
   "metadata": {},
   "outputs": [
    {
     "data": {
      "text/plain": [
       "2"
      ]
     },
     "execution_count": 39,
     "metadata": {},
     "output_type": "execute_result"
    }
   ],
   "source": [
    "# Conocer el índice del elemento \"20.0\"\n",
    "areas1.index(20.0)"
   ]
  },
  {
   "cell_type": "code",
   "execution_count": 40,
   "metadata": {},
   "outputs": [
    {
     "data": {
      "text/plain": [
       "0"
      ]
     },
     "execution_count": 40,
     "metadata": {},
     "output_type": "execute_result"
    }
   ],
   "source": [
    "# Cuantas veces se repite el número \"10\"\n",
    "areas1.count(10)"
   ]
  },
  {
   "cell_type": "code",
   "execution_count": 42,
   "metadata": {},
   "outputs": [
    {
     "data": {
      "text/plain": [
       "[5, 18.0, 20.0, 10.75, 9.5, 24.5, 15.45, 24.5, 15.45]"
      ]
     },
     "execution_count": 42,
     "metadata": {},
     "output_type": "execute_result"
    }
   ],
   "source": [
    "# Añadir 2 elemntos a la lista \"24.5\" y \"15.45\" \n",
    "areas1.append(24.5)\n",
    "areas1.append(15.45)\n",
    "areas1"
   ]
  },
  {
   "cell_type": "code",
   "execution_count": 45,
   "metadata": {},
   "outputs": [
    {
     "data": {
      "text/plain": [
       "[15.45, 24.5, 15.45, 24.5, 9.5, 10.75, 20.0, 18.0, 5]"
      ]
     },
     "execution_count": 45,
     "metadata": {},
     "output_type": "execute_result"
    }
   ],
   "source": [
    "# Reveritir el orden de los elementos\n",
    "areas1.reverse()\n",
    "areas1"
   ]
  },
  {
   "cell_type": "markdown",
   "metadata": {},
   "source": [
    "### 8) Paquetes"
   ]
  },
  {
   "cell_type": "markdown",
   "metadata": {},
   "source": [
    "En Python, un módulo es un objeto que sirve como contenedor para organizar codigo en Python. Cada módulo tiene asignado un espacio de nombres y dentro de ese espacio de nombres puede haber cualquier cantidad de objetos, y como en Python todo es un objeto, tambien puede contener otros módulos.\n",
    "\n",
    "Un paquete es un módulo de Python que contiene otros módulos y/o paquetes. La diferencia entre un módulo y un paquete es que el paquete contiene un atributo __path__ que indica la ruta en el disco duro donde esta almacenado el paquete.\n",
    "\n",
    "Fuente: http://blog.noenieto.com/2014/04/25/modulos-y-paquetes-en-python.html"
   ]
  },
  {
   "cell_type": "markdown",
   "metadata": {},
   "source": [
    "* Para importar una paqueteria, únicamente se necesita utilizar el comando \"import\" y en seguida el nombre de la paqueteria."
   ]
  },
  {
   "cell_type": "code",
   "execution_count": 51,
   "metadata": {},
   "outputs": [
    {
     "name": "stdout",
     "output_type": "stream",
     "text": [
      "Area: 0.5808804816487527\n"
     ]
    }
   ],
   "source": [
    "### Calculando el área de un Círculo\n",
    "# Reconrdando: A = pi*r^2\n",
    "r = .43\n",
    "\n",
    "# Importar la paqueteria math la cual contiene a \"pi\"\n",
    "import math\n",
    "\n",
    "# Calcular el Área\n",
    "A = math.pi*r**2\n",
    "\n",
    "print(\"Area: \" + str(A))"
   ]
  },
  {
   "cell_type": "markdown",
   "metadata": {},
   "source": [
    "* No es necesario llamar a toda la paqueteria para poder utilizar alguna función en específico"
   ]
  },
  {
   "cell_type": "code",
   "execution_count": 48,
   "metadata": {},
   "outputs": [
    {
     "name": "stdout",
     "output_type": "stream",
     "text": [
      "Area: 0.5808804816487527\n"
     ]
    }
   ],
   "source": [
    "# Importar la funcion(elemento) \"pi\" de la paquetia \"math\"\n",
    "from math import pi\n",
    "\n",
    "# Calcular el Área\n",
    "A = pi*r**2\n",
    "\n",
    "print(\"Area: \" + str(A))"
   ]
  },
  {
   "cell_type": "markdown",
   "metadata": {},
   "source": [
    "* Se puede nombrar la importación de la paqueteria con cualquier nombre, únicamente se agrega \"as\" al final de lo importado y se le asigna un nombre "
   ]
  },
  {
   "cell_type": "code",
   "execution_count": 50,
   "metadata": {
    "collapsed": true
   },
   "outputs": [],
   "source": [
    "# Importar la paqueteria \"numpy\" y guardarla como \"np\"\n",
    "import numpy as np"
   ]
  },
  {
   "cell_type": "markdown",
   "metadata": {},
   "source": [
    "### 9) NumPy"
   ]
  },
  {
   "cell_type": "markdown",
   "metadata": {},
   "source": [
    "Uno de los módulos más importantes de Python es Numpy.\n",
    "\n",
    "Numpy es el encargado de añadir toda la capacidad matemática y vectorial a Python haciendo posible operar con cualquier dato numérico o array. Incorpora operaciones tan básicas como la suma o la multiplicación u otras mucho más complejas como la transformada de Fourier o el álgebra lineal. Además incorpora herramientas que nos permiten incorporar código fuente de otros lenguajes de programación como C/C++ o Fortran lo que incrementa notablemente su compatibilidad e implementación.\n",
    "\n",
    "Fuente: http://webs.ucm.es/info/aocg/python/modulos_cientificos/numpy/index.html"
   ]
  },
  {
   "cell_type": "code",
   "execution_count": 53,
   "metadata": {},
   "outputs": [
    {
     "data": {
      "text/plain": [
       "[180, 215, 210, 210, 188, 176, 209, 200]"
      ]
     },
     "execution_count": 53,
     "metadata": {},
     "output_type": "execute_result"
    }
   ],
   "source": [
    "# Crear una lista representando la altura de unos jugadores de Baseball\n",
    "baseball = [180, 215, 210, 210, 188, 176, 209, 200]\n",
    "baseball"
   ]
  },
  {
   "cell_type": "code",
   "execution_count": 54,
   "metadata": {},
   "outputs": [
    {
     "data": {
      "text/plain": [
       "array([180, 215, 210, 210, 188, 176, 209, 200])"
      ]
     },
     "execution_count": 54,
     "metadata": {},
     "output_type": "execute_result"
    }
   ],
   "source": [
    "# Crear un numpy array de \"baseball\" a \"np_baseball\"\n",
    "np_baseball = np.array(baseball)\n",
    "np_baseball"
   ]
  },
  {
   "cell_type": "code",
   "execution_count": 57,
   "metadata": {},
   "outputs": [
    {
     "data": {
      "text/plain": [
       "1588"
      ]
     },
     "execution_count": 57,
     "metadata": {},
     "output_type": "execute_result"
    }
   ],
   "source": [
    "# Sumar la altura de todos los jugadores\n",
    "np_height_m = np_baseball.sum()\n",
    "np_height_m"
   ]
  },
  {
   "cell_type": "code",
   "execution_count": null,
   "metadata": {
    "collapsed": true
   },
   "outputs": [],
   "source": []
  }
 ],
 "metadata": {
  "kernelspec": {
   "display_name": "Python 3",
   "language": "python",
   "name": "python3"
  },
  "language_info": {
   "codemirror_mode": {
    "name": "ipython",
    "version": 3
   },
   "file_extension": ".py",
   "mimetype": "text/x-python",
   "name": "python",
   "nbconvert_exporter": "python",
   "pygments_lexer": "ipython3",
   "version": "3.7.4"
  }
 },
 "nbformat": 4,
 "nbformat_minor": 2
}
